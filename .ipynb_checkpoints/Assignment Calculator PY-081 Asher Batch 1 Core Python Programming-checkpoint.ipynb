{
 "cells": [
  {
   "cell_type": "markdown",
   "metadata": {},
   "source": [
    "# Calculator"
   ]
  },
  {
   "cell_type": "code",
   "execution_count": 1,
   "metadata": {},
   "outputs": [],
   "source": [
    "def add(n1, n2):\n",
    "    return n1 + n2"
   ]
  },
  {
   "cell_type": "code",
   "execution_count": 2,
   "metadata": {},
   "outputs": [],
   "source": [
    "def sub(n1, n2):\n",
    "    return n1 - n2"
   ]
  },
  {
   "cell_type": "code",
   "execution_count": 3,
   "metadata": {},
   "outputs": [],
   "source": [
    "def mult(n1, n2):\n",
    "    return n1 * n2"
   ]
  },
  {
   "cell_type": "code",
   "execution_count": 4,
   "metadata": {},
   "outputs": [],
   "source": [
    "def div(n1, n2):\n",
    "    return n1 // n2"
   ]
  },
  {
   "cell_type": "code",
   "execution_count": 6,
   "metadata": {},
   "outputs": [
    {
     "name": "stdout",
     "output_type": "stream",
     "text": [
      "Select operation - \n",
      " 1. Add\n",
      " 2. Subtract\n",
      " 3. Multiply\n",
      " 4. Divide\n",
      "\n",
      "Select operations form 1,2,3,4:1\n",
      "Enter First Number24\n",
      "Enter second Number24\n",
      "24 + 24 = 48\n",
      "Select operation - \n",
      " 1. Add\n",
      " 2. Subtract\n",
      " 3. Multiply\n",
      " 4. Divide\n",
      "\n",
      "Select operations form 1,2,3,4:2\n",
      "Enter First Number24\n",
      "Enter second Number24\n",
      "24 - 24 = 0\n",
      "Select operation - \n",
      " 1. Add\n",
      " 2. Subtract\n",
      " 3. Multiply\n",
      " 4. Divide\n",
      "\n",
      "Select operations form 1,2,3,4:3\n",
      "Enter First Number24\n",
      "Enter second Number24\n",
      "24 x 24 = 576\n",
      "Select operation - \n",
      " 1. Add\n",
      " 2. Subtract\n",
      " 3. Multiply\n",
      " 4. Divide\n",
      "\n",
      "Select operations form 1,2,3,4:4\n",
      "Enter First Number24\n",
      "Enter second Number24\n",
      "24 / 24 = 1\n",
      "Select operation - \n",
      " 1. Add\n",
      " 2. Subtract\n",
      " 3. Multiply\n",
      " 4. Divide\n",
      "\n",
      "Select operations form 1,2,3,4:10\n",
      "Enter First Number1\n",
      "Enter second Number2\n",
      "invalid input\n",
      "Select operation - \n",
      " 1. Add\n",
      " 2. Subtract\n",
      " 3. Multiply\n",
      " 4. Divide\n",
      "\n",
      "Select operations form 1,2,3,4:q\n",
      "Enter First Number1\n",
      "Enter second Number1\n",
      "invalid input\n"
     ]
    }
   ],
   "source": [
    "while True:\n",
    "    print(\"Select operation - \\n\", \n",
    "         \"1. Add\\n\" ,\n",
    "         \"2. Subtract\\n\" ,\n",
    "         \"3. Multiply\\n\" ,\n",
    "         \"4. Divide\\n\")\n",
    "    #Take input from the user\n",
    "    select = input(\"Select operations form 1,2,3,4:\")\n",
    "    \n",
    "    n1 = int(input(\"Enter First Number\"))\n",
    "    n2 = int(input(\"Enter second Number\"))\n",
    "    \n",
    "    if select == '1':\n",
    "        print(n1, \"+\", n2, \"=\", add(n1,n2))\n",
    "    elif select == '2':\n",
    "        print(n1, \"-\", n2, \"=\", sub(n1,n2))\n",
    "    elif select == '3':\n",
    "        print(n1, \"x\", n2, \"=\", mult(n1,n2))\n",
    "    elif select == '4':\n",
    "        print(n1, \"/\", n2, \"=\", div(n1,n2))\n",
    "    else:\n",
    "        print(\"invalid input\")\n",
    "    if select =='q':\n",
    "        break\n",
    "    \n",
    "    "
   ]
  },
  {
   "cell_type": "code",
   "execution_count": null,
   "metadata": {},
   "outputs": [],
   "source": []
  }
 ],
 "metadata": {
  "kernelspec": {
   "display_name": "Python 3",
   "language": "python",
   "name": "python3"
  },
  "language_info": {
   "codemirror_mode": {
    "name": "ipython",
    "version": 3
   },
   "file_extension": ".py",
   "mimetype": "text/x-python",
   "name": "python",
   "nbconvert_exporter": "python",
   "pygments_lexer": "ipython3",
   "version": "3.7.3"
  }
 },
 "nbformat": 4,
 "nbformat_minor": 2
}
